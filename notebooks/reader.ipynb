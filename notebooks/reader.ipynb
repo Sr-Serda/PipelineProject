{
 "cells": [
  {
   "cell_type": "markdown",
   "metadata": {},
   "source": [
    "Leitura dos Dados empresa A"
   ]
  },
  {
   "cell_type": "code",
   "execution_count": 25,
   "metadata": {},
   "outputs": [],
   "source": [
    "import json"
   ]
  },
  {
   "cell_type": "code",
   "execution_count": 50,
   "metadata": {},
   "outputs": [],
   "source": [
    "import csv"
   ]
  },
  {
   "cell_type": "code",
   "execution_count": 26,
   "metadata": {},
   "outputs": [],
   "source": [
    "path_json = \"../raw_data/dados_empresaA.json\""
   ]
  },
  {
   "cell_type": "code",
   "execution_count": 27,
   "metadata": {},
   "outputs": [],
   "source": [
    "with open(path_json, 'r') as file:\n",
    "    data = file.readline()"
   ]
  },
  {
   "cell_type": "code",
   "execution_count": 28,
   "metadata": {},
   "outputs": [
    {
     "name": "stdout",
     "output_type": "stream",
     "text": [
      "[{\"Nome do Produto\":\"Blush em p\\u00f3\",\"Categoria do Produto\":\"Eletrodom\\u00e9sticos\",\"Pre\\u00e7o do Produto (R$)\":79.41,\"Quantidade em Estoque\":7,\"Filial\":\"Filial 7\"},\n",
      "\n"
     ]
    }
   ],
   "source": [
    "print(data)"
   ]
  },
  {
   "cell_type": "code",
   "execution_count": null,
   "metadata": {},
   "outputs": [],
   "source": [
    "with open(path_json, 'r') as file:\n",
    "    data_json = json.load(file)"
   ]
  },
  {
   "cell_type": "code",
   "execution_count": 41,
   "metadata": {},
   "outputs": [
    {
     "name": "stdout",
     "output_type": "stream",
     "text": [
      "{'Nome do Produto': 'Blush em pó', 'Categoria do Produto': 'Eletrodomésticos', 'Preço do Produto (R$)': 79.41, 'Quantidade em Estoque': 7, 'Filial': 'Filial 7'}\n",
      "{'Nome do Produto': 'Lápis de sobrancelha', 'Categoria do Produto': 'Eletrodomésticos', 'Preço do Produto (R$)': 85.47, 'Quantidade em Estoque': 78, 'Filial': 'Filial 8'}\n",
      "{'Nome do Produto': 'Base líquida', 'Categoria do Produto': 'Roupas', 'Preço do Produto (R$)': 75.02, 'Quantidade em Estoque': 34, 'Filial': 'Filial 8'}\n",
      "{'Nome do Produto': 'Base líquida', 'Categoria do Produto': 'Roupas', 'Preço do Produto (R$)': 44.94, 'Quantidade em Estoque': 90, 'Filial': 'Filial 10'}\n",
      "{'Nome do Produto': 'Lápis de sobrancelha', 'Categoria do Produto': 'Alimentos', 'Preço do Produto (R$)': 58.63, 'Quantidade em Estoque': 91, 'Filial': 'Filial 7'}\n",
      "{'Nome do Produto': 'Blush em pó', 'Categoria do Produto': 'Roupas', 'Preço do Produto (R$)': 50.79, 'Quantidade em Estoque': 77, 'Filial': 'Filial 7'}\n",
      "{'Nome do Produto': 'Corretivo', 'Categoria do Produto': 'Eletrodomésticos', 'Preço do Produto (R$)': 20.46, 'Quantidade em Estoque': 2, 'Filial': 'Filial 4'}\n",
      "{'Nome do Produto': 'Pó compacto', 'Categoria do Produto': 'Roupas', 'Preço do Produto (R$)': 85.56, 'Quantidade em Estoque': 37, 'Filial': 'Filial 9'}\n",
      "{'Nome do Produto': 'Sombra de olhos', 'Categoria do Produto': 'Roupas', 'Preço do Produto (R$)': 31.92, 'Quantidade em Estoque': 56, 'Filial': 'Filial 8'}\n",
      "{'Nome do Produto': 'Delineador líquido', 'Categoria do Produto': 'Alimentos', 'Preço do Produto (R$)': 42.58, 'Quantidade em Estoque': 8, 'Filial': 'Filial 3'}\n"
     ]
    }
   ],
   "source": [
    "for i in range(0, 10, 1):\n",
    "    print(data_json[i])"
   ]
  },
  {
   "cell_type": "markdown",
   "metadata": {},
   "source": [
    "Leitura dos dados empresa B"
   ]
  },
  {
   "cell_type": "code",
   "execution_count": 42,
   "metadata": {},
   "outputs": [],
   "source": [
    "path_csv = \"../raw_data/dados_empresaB.csv\""
   ]
  },
  {
   "cell_type": "code",
   "execution_count": 68,
   "metadata": {},
   "outputs": [],
   "source": [
    "data_csv = []\n",
    "with open(path_csv, \"r\") as file:\n",
    "    spamreader = csv.DictReader(file, delimiter= \",\")\n",
    "    for row in spamreader:\n",
    "        data_csv.append(row)"
   ]
  },
  {
   "cell_type": "code",
   "execution_count": 73,
   "metadata": {},
   "outputs": [
    {
     "data": {
      "text/plain": [
       "'Lápis de sobrancelha'"
      ]
     },
     "execution_count": 73,
     "metadata": {},
     "output_type": "execute_result"
    }
   ],
   "source": [
    "data_csv[0][\"Nome do Item\"]"
   ]
  },
  {
   "cell_type": "code",
   "execution_count": null,
   "metadata": {},
   "outputs": [],
   "source": []
  }
 ],
 "metadata": {
  "kernelspec": {
   "display_name": "venv",
   "language": "python",
   "name": "python3"
  },
  "language_info": {
   "codemirror_mode": {
    "name": "ipython",
    "version": 3
   },
   "file_extension": ".py",
   "mimetype": "text/x-python",
   "name": "python",
   "nbconvert_exporter": "python",
   "pygments_lexer": "ipython3",
   "version": "3.9.18"
  }
 },
 "nbformat": 4,
 "nbformat_minor": 2
}
